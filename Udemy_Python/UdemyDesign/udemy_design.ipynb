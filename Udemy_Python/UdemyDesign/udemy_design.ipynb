{
 "cells": [
  {
   "cell_type": "markdown",
   "metadata": {},
   "source": [
    "### UdemyのPython基本講座でわからなかったことを実行して確かめます"
   ]
  },
  {
   "cell_type": "markdown",
   "metadata": {},
   "source": [
    "### raise,自作エラークラス"
   ]
  },
  {
   "cell_type": "code",
   "execution_count": 15,
   "metadata": {},
   "outputs": [],
   "source": [
    "def devide(a, b):\n",
    "    if b==0:\n",
    "        raise MyException('０では割り切れません')\n",
    "    else:\n",
    "        return a / b"
   ]
  },
  {
   "cell_type": "code",
   "execution_count": 16,
   "metadata": {},
   "outputs": [
    {
     "name": "stdout",
     "output_type": "stream",
     "text": [
      "０では割り切れません <class '__main__.MyException'>\n"
     ]
    }
   ],
   "source": [
    "try:\n",
    "    c = devide(10,0)\n",
    "except Exception as e:\n",
    "    print(e,type(e))"
   ]
  },
  {
   "cell_type": "code",
   "execution_count": 14,
   "metadata": {},
   "outputs": [],
   "source": [
    "class MyException(Exception):\n",
    "    pass"
   ]
  },
  {
   "cell_type": "markdown",
   "metadata": {},
   "source": [
    "### ジェネレータ関数"
   ]
  },
  {
   "cell_type": "code",
   "execution_count": 45,
   "metadata": {},
   "outputs": [
    {
     "name": "stdout",
     "output_type": "stream",
     "text": [
      "ジェネレータ作成\n",
      "yield実行\n",
      "0\n",
      "yield実行\n",
      "1\n"
     ]
    }
   ],
   "source": [
    "def generator(max):\n",
    "    print('ジェネレータ作成')\n",
    "    for n in range(max):\n",
    "        print('yield実行')\n",
    "        yield n\n",
    "        \n",
    "gen = generator(10)\n",
    "n = next(gen)\n",
    "print(n)\n",
    "n = next(gen)\n",
    "print(n)"
   ]
  },
  {
   "cell_type": "code",
   "execution_count": 46,
   "metadata": {
    "collapsed": true,
    "jupyter": {
     "outputs_hidden": true
    },
    "tags": []
   },
   "outputs": [
    {
     "name": "stdout",
     "output_type": "stream",
     "text": [
      "yield実行\n",
      "2がジェネレートされました\n",
      "yield実行\n",
      "3がジェネレートされました\n",
      "yield実行\n",
      "4がジェネレートされました\n",
      "yield実行\n",
      "5がジェネレートされました\n",
      "yield実行\n",
      "6がジェネレートされました\n",
      "yield実行\n",
      "7がジェネレートされました\n",
      "yield実行\n",
      "8がジェネレートされました\n",
      "yield実行\n",
      "9がジェネレートされました\n"
     ]
    }
   ],
   "source": [
    "for x in gen:\n",
    "    print(f'{x}がジェネレートされました')"
   ]
  },
  {
   "cell_type": "code",
   "execution_count": 62,
   "metadata": {
    "collapsed": true,
    "jupyter": {
     "outputs_hidden": true,
     "source_hidden": true
    },
    "tags": []
   },
   "outputs": [
    {
     "name": "stdout",
     "output_type": "stream",
     "text": [
      "ジェネレータ作成\n",
      "yield実行\n",
      "100がsendされました\n",
      "yield実行\n",
      "0\n"
     ]
    }
   ],
   "source": [
    "def generator_send(max):\n",
    "    print('ジェネレータ作成')\n",
    "    for n in range(max):\n",
    "        print('yield実行')\n",
    "        x = yield n\n",
    "        print(f'{x}がsendされました')\n",
    "gen_s = generator_send(10)\n",
    "n_s = next(gen_s)\n",
    "gen_s.send(100)\n",
    "print(n_s)\n"
   ]
  },
  {
   "cell_type": "markdown",
   "metadata": {},
   "source": [
    " ### デコレータ関数"
   ]
  },
  {
   "cell_type": "code",
   "execution_count": 63,
   "metadata": {},
   "outputs": [
    {
     "name": "stdout",
     "output_type": "stream",
     "text": [
      "****************************************************************************************************\n",
      "func_aを実行しました\n",
      "(1, 2, 3)\n",
      "****************************************************************************************************\n",
      "****************************************************************************************************\n",
      "func_bを実行しました\n",
      "(1, 2, 3)\n",
      "****************************************************************************************************\n"
     ]
    }
   ],
   "source": [
    "def my_decorator(func):\n",
    "    def wrapper(*args , **kwargs):\n",
    "        print('*' * 100)\n",
    "        func(*args , **kwargs)\n",
    "        print('*' * 100)\n",
    "    return wrapper\n",
    "\n",
    "@my_decorator\n",
    "def func_a(*args , **kwargs):\n",
    "    print('func_aを実行しました')\n",
    "    print(args)\n",
    "\n",
    "@my_decorator\n",
    "def func_b(*args , **kwargs):\n",
    "    print('func_bを実行しました')\n",
    "    print(args)\n",
    "\n",
    "func_a(1,2,3)\n",
    "func_b(1,2,3)"
   ]
  },
  {
   "cell_type": "markdown",
   "metadata": {},
   "source": [
    " ### Classの動作確認"
   ]
  },
  {
   "cell_type": "code",
   "execution_count": 5,
   "metadata": {
    "collapsed": true,
    "jupyter": {
     "outputs_hidden": true
    },
    "tags": []
   },
   "outputs": [
    {
     "name": "stdout",
     "output_type": "stream",
     "text": [
      "2019\n",
      "print_name実行\n",
      "Prius\n",
      "print_name実行\n",
      "Prius\n",
      "Help on class Car in module __main__:\n",
      "\n",
      "class Car(builtins.object)\n",
      " |  \"車クラス\n",
      " |  \n",
      " |  Methods defined here:\n",
      " |  \n",
      " |  print_name(self)\n",
      " |  \n",
      " |  ----------------------------------------------------------------------\n",
      " |  Data descriptors defined here:\n",
      " |  \n",
      " |  __dict__\n",
      " |      dictionary for instance variables (if defined)\n",
      " |  \n",
      " |  __weakref__\n",
      " |      list of weak references to the object (if defined)\n",
      " |  \n",
      " |  ----------------------------------------------------------------------\n",
      " |  Data and other attributes defined here:\n",
      " |  \n",
      " |  country = 'Japan'\n",
      " |  \n",
      " |  name = 'Prius'\n",
      " |  \n",
      " |  year = 2019\n",
      "\n"
     ]
    }
   ],
   "source": [
    "class Car:\n",
    "    \"\"\"\"車クラス\"\"\"\n",
    "    country = 'Japan'\n",
    "    year = 2019\n",
    "    name = 'Prius'\n",
    "    def print_name(self):\n",
    "        print('print_name実行')\n",
    "        print(self.name)\n",
    "\n",
    "my_car = Car() #インスタンス化\n",
    "print(my_car.year)\n",
    "my_car.print_name()\n",
    "list_a = ['apple','banana', Car]\n",
    "second_car = list_a[2]()\n",
    "second_car.print_name()\n",
    "help(Car)"
   ]
  },
  {
   "cell_type": "code",
   "execution_count": null,
   "metadata": {},
   "outputs": [],
   "source": []
  },
  {
   "cell_type": "code",
   "execution_count": null,
   "metadata": {},
   "outputs": [],
   "source": []
  },
  {
   "cell_type": "code",
   "execution_count": null,
   "metadata": {},
   "outputs": [],
   "source": []
  },
  {
   "cell_type": "code",
   "execution_count": null,
   "metadata": {},
   "outputs": [],
   "source": []
  },
  {
   "cell_type": "code",
   "execution_count": null,
   "metadata": {},
   "outputs": [],
   "source": []
  },
  {
   "cell_type": "code",
   "execution_count": null,
   "metadata": {},
   "outputs": [],
   "source": []
  },
  {
   "cell_type": "code",
   "execution_count": null,
   "metadata": {},
   "outputs": [],
   "source": []
  },
  {
   "cell_type": "code",
   "execution_count": null,
   "metadata": {},
   "outputs": [],
   "source": []
  },
  {
   "cell_type": "code",
   "execution_count": null,
   "metadata": {},
   "outputs": [],
   "source": []
  },
  {
   "cell_type": "code",
   "execution_count": null,
   "metadata": {},
   "outputs": [],
   "source": []
  },
  {
   "cell_type": "code",
   "execution_count": null,
   "metadata": {},
   "outputs": [],
   "source": []
  },
  {
   "cell_type": "code",
   "execution_count": null,
   "metadata": {},
   "outputs": [],
   "source": []
  },
  {
   "cell_type": "code",
   "execution_count": null,
   "metadata": {},
   "outputs": [],
   "source": []
  },
  {
   "cell_type": "code",
   "execution_count": null,
   "metadata": {},
   "outputs": [],
   "source": []
  },
  {
   "cell_type": "code",
   "execution_count": null,
   "metadata": {},
   "outputs": [],
   "source": []
  },
  {
   "cell_type": "code",
   "execution_count": null,
   "metadata": {},
   "outputs": [],
   "source": []
  },
  {
   "cell_type": "code",
   "execution_count": null,
   "metadata": {},
   "outputs": [],
   "source": []
  },
  {
   "cell_type": "code",
   "execution_count": null,
   "metadata": {},
   "outputs": [],
   "source": []
  },
  {
   "cell_type": "code",
   "execution_count": null,
   "metadata": {},
   "outputs": [],
   "source": []
  },
  {
   "cell_type": "code",
   "execution_count": null,
   "metadata": {},
   "outputs": [],
   "source": []
  }
 ],
 "metadata": {
  "kernelspec": {
   "display_name": "Python 3 (ipykernel)",
   "language": "python",
   "name": "python3"
  },
  "language_info": {
   "codemirror_mode": {
    "name": "ipython",
    "version": 3
   },
   "file_extension": ".py",
   "mimetype": "text/x-python",
   "name": "python",
   "nbconvert_exporter": "python",
   "pygments_lexer": "ipython3",
   "version": "3.9.12"
  }
 },
 "nbformat": 4,
 "nbformat_minor": 4
}
