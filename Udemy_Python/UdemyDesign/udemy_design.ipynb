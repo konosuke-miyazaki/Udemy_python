{
 "cells": [
  {
   "cell_type": "markdown",
   "metadata": {},
   "source": [
    "### UdemyのPython基本講座でわからなかったことを実行して確かめます"
   ]
  },
  {
   "cell_type": "markdown",
   "metadata": {},
   "source": [
    "### raise,自作エラークラス"
   ]
  },
  {
   "cell_type": "code",
   "execution_count": 15,
   "metadata": {},
   "outputs": [],
   "source": [
    "def devide(a, b):\n",
    "    if b==0:\n",
    "        raise MyException('０では割り切れません')\n",
    "    else:\n",
    "        return a / b"
   ]
  },
  {
   "cell_type": "code",
   "execution_count": 16,
   "metadata": {},
   "outputs": [
    {
     "name": "stdout",
     "output_type": "stream",
     "text": [
      "０では割り切れません <class '__main__.MyException'>\n"
     ]
    }
   ],
   "source": [
    "try:\n",
    "    c = devide(10,0)\n",
    "except Exception as e:\n",
    "    print(e,type(e))"
   ]
  },
  {
   "cell_type": "code",
   "execution_count": 14,
   "metadata": {},
   "outputs": [],
   "source": [
    "class MyException(Exception):\n",
    "    pass"
   ]
  },
  {
   "cell_type": "markdown",
   "metadata": {},
   "source": [
    "### ジェネレータ関数"
   ]
  },
  {
   "cell_type": "code",
   "execution_count": 45,
   "metadata": {},
   "outputs": [
    {
     "name": "stdout",
     "output_type": "stream",
     "text": [
      "ジェネレータ作成\n",
      "yield実行\n",
      "0\n",
      "yield実行\n",
      "1\n"
     ]
    }
   ],
   "source": [
    "def generator(max):\n",
    "    print('ジェネレータ作成')\n",
    "    for n in range(max):\n",
    "        print('yield実行')\n",
    "        yield n\n",
    "        \n",
    "gen = generator(10)\n",
    "n = next(gen)\n",
    "print(n)\n",
    "n = next(gen)\n",
    "print(n)"
   ]
  },
  {
   "cell_type": "code",
   "execution_count": 46,
   "metadata": {
    "collapsed": true,
    "jupyter": {
     "outputs_hidden": true
    },
    "tags": []
   },
   "outputs": [
    {
     "name": "stdout",
     "output_type": "stream",
     "text": [
      "yield実行\n",
      "2がジェネレートされました\n",
      "yield実行\n",
      "3がジェネレートされました\n",
      "yield実行\n",
      "4がジェネレートされました\n",
      "yield実行\n",
      "5がジェネレートされました\n",
      "yield実行\n",
      "6がジェネレートされました\n",
      "yield実行\n",
      "7がジェネレートされました\n",
      "yield実行\n",
      "8がジェネレートされました\n",
      "yield実行\n",
      "9がジェネレートされました\n"
     ]
    }
   ],
   "source": [
    "for x in gen:\n",
    "    print(f'{x}がジェネレートされました')"
   ]
  },
  {
   "cell_type": "code",
   "execution_count": 62,
   "metadata": {
    "collapsed": true,
    "jupyter": {
     "outputs_hidden": true,
     "source_hidden": true
    },
    "tags": []
   },
   "outputs": [
    {
     "name": "stdout",
     "output_type": "stream",
     "text": [
      "ジェネレータ作成\n",
      "yield実行\n",
      "100がsendされました\n",
      "yield実行\n",
      "0\n"
     ]
    }
   ],
   "source": [
    "def generator_send(max):\n",
    "    print('ジェネレータ作成')\n",
    "    for n in range(max):\n",
    "        print('yield実行')\n",
    "        x = yield n\n",
    "        print(f'{x}がsendされました')\n",
    "gen_s = generator_send(10)\n",
    "n_s = next(gen_s)\n",
    "gen_s.send(100)\n",
    "print(n_s)\n"
   ]
  },
  {
   "cell_type": "markdown",
   "metadata": {},
   "source": [
    " ### デコレータ関数"
   ]
  },
  {
   "cell_type": "code",
   "execution_count": 63,
   "metadata": {},
   "outputs": [
    {
     "name": "stdout",
     "output_type": "stream",
     "text": [
      "****************************************************************************************************\n",
      "func_aを実行しました\n",
      "(1, 2, 3)\n",
      "****************************************************************************************************\n",
      "****************************************************************************************************\n",
      "func_bを実行しました\n",
      "(1, 2, 3)\n",
      "****************************************************************************************************\n"
     ]
    }
   ],
   "source": [
    "def my_decorator(func):\n",
    "    def wrapper(*args , **kwargs):\n",
    "        print('*' * 100)\n",
    "        func(*args , **kwargs)\n",
    "        print('*' * 100)\n",
    "    return wrapper\n",
    "\n",
    "@my_decorator\n",
    "def func_a(*args , **kwargs):\n",
    "    print('func_aを実行しました')\n",
    "    print(args)\n",
    "\n",
    "@my_decorator\n",
    "def func_b(*args , **kwargs):\n",
    "    print('func_bを実行しました')\n",
    "    print(args)\n",
    "\n",
    "func_a(1,2,3)\n",
    "func_b(1,2,3)"
   ]
  },
  {
   "cell_type": "markdown",
   "metadata": {},
   "source": [
    " ### Classの動作確認"
   ]
  },
  {
   "cell_type": "code",
   "execution_count": 5,
   "metadata": {
    "collapsed": true,
    "jupyter": {
     "outputs_hidden": true
    },
    "tags": []
   },
   "outputs": [
    {
     "name": "stdout",
     "output_type": "stream",
     "text": [
      "2019\n",
      "print_name実行\n",
      "Prius\n",
      "print_name実行\n",
      "Prius\n",
      "Help on class Car in module __main__:\n",
      "\n",
      "class Car(builtins.object)\n",
      " |  \"車クラス\n",
      " |  \n",
      " |  Methods defined here:\n",
      " |  \n",
      " |  print_name(self)\n",
      " |  \n",
      " |  ----------------------------------------------------------------------\n",
      " |  Data descriptors defined here:\n",
      " |  \n",
      " |  __dict__\n",
      " |      dictionary for instance variables (if defined)\n",
      " |  \n",
      " |  __weakref__\n",
      " |      list of weak references to the object (if defined)\n",
      " |  \n",
      " |  ----------------------------------------------------------------------\n",
      " |  Data and other attributes defined here:\n",
      " |  \n",
      " |  country = 'Japan'\n",
      " |  \n",
      " |  name = 'Prius'\n",
      " |  \n",
      " |  year = 2019\n",
      "\n"
     ]
    }
   ],
   "source": [
    "class Car:\n",
    "    \"\"\"\"車クラス\"\"\"\n",
    "    country = 'Japan'\n",
    "    year = 2019\n",
    "    name = 'Prius'\n",
    "    def print_name(self):\n",
    "        print('print_name実行')\n",
    "        print(self.name)\n",
    "\n",
    "my_car = Car() #インスタンス化\n",
    "print(my_car.year)\n",
    "my_car.print_name()\n",
    "list_a = ['apple','banana', Car]\n",
    "second_car = list_a[2]()\n",
    "second_car.print_name()\n",
    "help(Car)"
   ]
  },
  {
   "cell_type": "code",
   "execution_count": 7,
   "metadata": {},
   "outputs": [
    {
     "name": "stdout",
     "output_type": "stream",
     "text": [
      "instance_val\n",
      "クラス変数class_val\n",
      "インスタンス変数instance_val\n",
      "class_val\n",
      "class_val\n"
     ]
    }
   ],
   "source": [
    "# クラス変数、インスタンス変数\n",
    "\n",
    "class SampleA():\n",
    "    class_val = 'class_val' #クラス変数\n",
    "    \n",
    "    def set_val(self):\n",
    "        self.instance_val = 'instance_val' # インスタンス変数\n",
    "        \n",
    "    def print_val(self):\n",
    "        print(f'クラス変数{self.class_val}')\n",
    "        print(f'インスタンス変数{self.instance_val}')\n",
    "        \n",
    "instance_a = SampleA()\n",
    "instance_a.set_val()\n",
    "print(instance_a.instance_val)\n",
    "instance_a.print_val()\n",
    "print(SampleA.class_val)\n",
    "print(instance_a.__class__.class_val)"
   ]
  },
  {
   "cell_type": "markdown",
   "metadata": {},
   "source": [
    "### コンストラクタの動作確認"
   ]
  },
  {
   "cell_type": "code",
   "execution_count": 9,
   "metadata": {},
   "outputs": [
    {
     "name": "stdout",
     "output_type": "stream",
     "text": [
      "コンストラクタが呼ばれました\n",
      "Hello\n",
      "Miyazaki\n"
     ]
    }
   ],
   "source": [
    "class SampleClass:\n",
    "    def __init__(self, msg, name = None):\n",
    "        print('コンストラクタが呼ばれました')\n",
    "        self.msg = msg #インスタンス変数\n",
    "        self.name = name #インスタンス変数\n",
    "        \n",
    "    def print_msg(self):\n",
    "        print(self.msg)\n",
    "    \n",
    "    def print_name(self):\n",
    "        print(self.name)\n",
    "        \n",
    "var1 = SampleClass('Hello','Miyazaki')\n",
    "var1.print_msg()\n",
    "var1.print_name()"
   ]
  },
  {
   "cell_type": "markdown",
   "metadata": {},
   "source": [
    "### インスタンスメソッド、クラスメソッド、スタティックメソッド"
   ]
  },
  {
   "cell_type": "code",
   "execution_count": 19,
   "metadata": {},
   "outputs": [
    {
     "name": "stdout",
     "output_type": "stream",
     "text": [
      "クラスメソッドを実行\n",
      "Human\n",
      "hello\n",
      "インスタンスメソッド実行\n",
      "name = miyazaki age = 18\n",
      "スタティックメソッド実行\n",
      "hello,static\n",
      "スタティックメソッド実行\n",
      "hello static\n"
     ]
    }
   ],
   "source": [
    "class Human:\n",
    "    class_name = 'Human'  #クラス変数\n",
    "    \n",
    "    def __init__(self, name, age): #コンストラクタ\n",
    "        self.name = name\n",
    "        self.age = age\n",
    "        \n",
    "    def print_name_age(self): #インスタンスメソッド\n",
    "        print('インスタンスメソッド実行')\n",
    "        print(f'name = {self.name} age = {self.age}')\n",
    "        \n",
    "    @classmethod\n",
    "    def print_class_name(cls, msg): # クラスメソッド\n",
    "        print('クラスメソッドを実行')\n",
    "        print(cls.class_name) #クラス変数\n",
    "        print(msg)\n",
    "\n",
    "    @staticmethod\n",
    "    def print_msg(msg): #スタティックメソッド実行\n",
    "        print('スタティックメソッド実行')\n",
    "        print(msg)\n",
    "        \n",
    "Human.print_class_name('hello')\n",
    "man = Human('miyazaki',18)\n",
    "man.print_name_age()\n",
    "man.print_msg('hello,static')\n",
    "Human.print_msg('hello static')"
   ]
  },
  {
   "cell_type": "markdown",
   "metadata": {},
   "source": [
    "### クラスの継承"
   ]
  },
  {
   "cell_type": "code",
   "execution_count": 27,
   "metadata": {},
   "outputs": [],
   "source": [
    "class Person: #親クラス\n",
    "    \n",
    "    def __init__(self,name,age):\n",
    "        self.name = name\n",
    "        self.age = age\n",
    "        \n",
    "    def greeting(self):\n",
    "        print(f'hello! {self.name}')\n",
    "        \n",
    "    def say_age(self):\n",
    "        print(self.age)"
   ]
  },
  {
   "cell_type": "code",
   "execution_count": 29,
   "metadata": {},
   "outputs": [
    {
     "name": "stdout",
     "output_type": "stream",
     "text": [
      "hello! miyazaki\n",
      "my employee number 000\n",
      "my number is 000\n",
      "30\n"
     ]
    }
   ],
   "source": [
    "class Employee(Person): #親クラスPersonの機能を継承します\n",
    "    \n",
    "    def __init__(self,name,age,number):\n",
    "        super().__init__(name,age)\n",
    "        self.number = number\n",
    "        \n",
    "    def say_number(self):\n",
    "        print(f'my number is {self.number}')\n",
    "    \n",
    "    def greeting(self): #オーバーライド\n",
    "        super().greeting()\n",
    "        print(f'my employee number {self.number}')\n",
    "        \n",
    "man = Employee('miyazaki', 30,'000') \n",
    "man.greeting()\n",
    "man.say_number()\n",
    "man.say_age()"
   ]
  },
  {
   "cell_type": "markdown",
   "metadata": {},
   "source": [
    "### クラスの多重継承"
   ]
  },
  {
   "cell_type": "code",
   "execution_count": 30,
   "metadata": {},
   "outputs": [],
   "source": [
    "class ClassA:\n",
    "    \n",
    "    def __init__(self,name):\n",
    "        self.a_name = name\n",
    "        \n",
    "    def print_a(self):\n",
    "        print('ClassAのメソッド実行')\n",
    "        print(f'name = {self.a_name}')\n",
    "        \n",
    "    def print_hi(self):\n",
    "        print('A hi')\n",
    "        \n",
    "class ClassB:\n",
    "    \n",
    "    def __init__(self,name):\n",
    "        self.b_name = name\n",
    "        \n",
    "    def print_b(self):\n",
    "        print('ClassBのメソッド実行')\n",
    "        print(f'name = {self.b_name}')\n",
    "    \n",
    "    def print_hi(self):\n",
    "        print('B hi')"
   ]
  },
  {
   "cell_type": "code",
   "execution_count": 33,
   "metadata": {
    "tags": []
   },
   "outputs": [
    {
     "name": "stdout",
     "output_type": "stream",
     "text": [
      "ClassAのメソッド実行\n",
      "name = AName\n",
      "ClassBのメソッド実行\n",
      "name = BName\n",
      "A hi\n",
      "B hi\n",
      "New Class hi\n",
      "name = New Class Name\n"
     ]
    }
   ],
   "source": [
    "class NewClass(ClassA,ClassB):\n",
    "    \n",
    "    def __init__(self, a_name, b_name, name):\n",
    "        ClassA.__init__(self,a_name)\n",
    "        ClassB.__init__(self, b_name)\n",
    "        self.name = name\n",
    "    \n",
    "    def print_new_name(self):\n",
    "        print(f'name = {self.name}')\n",
    "    \n",
    "    def print_hi(self):\n",
    "        ClassA.print_hi(self)\n",
    "        ClassB.print_hi(self)\n",
    "        print('New Class hi')\n",
    "        \n",
    "sample = NewClass('AName', 'BName', 'New Class Name')\n",
    "\n",
    "sample.print_a()\n",
    "sample.print_b()\n",
    "sample.print_hi()\n",
    "sample.print_new_name()"
   ]
  },
  {
   "cell_type": "markdown",
   "metadata": {},
   "source": [
    "### メタクラス"
   ]
  },
  {
   "cell_type": "code",
   "execution_count": 37,
   "metadata": {},
   "outputs": [
    {
     "name": "stdout",
     "output_type": "stream",
     "text": [
      "metacls = <class '__main__.Meta1'>\n",
      "name = ClassA\n",
      "bases = ()\n",
      "class_dict = {'__module__': '__main__', '__qualname__': 'ClassA', 'a': '123'}\n"
     ]
    }
   ],
   "source": [
    "class Meta1(type): # typeはデフォルトのメタクラス\n",
    "    \n",
    "    def __new__(metacls, name, bases, class_dict):\n",
    "        print(f'metacls = {metacls}')\n",
    "        print(f'name = {name}')\n",
    "        print(f'bases = {bases}')\n",
    "        print(f'class_dict = {class_dict}')\n",
    "        \n",
    "        return super().__new__(metacls, name, bases, class_dict)\n",
    "    \n",
    "class ClassA(metaclass=Meta1):\n",
    "    a = '123'\n",
    "    pass\n",
    "    "
   ]
  },
  {
   "cell_type": "markdown",
   "metadata": {},
   "source": [
    "### ポリモーフィズム"
   ]
  },
  {
   "cell_type": "code",
   "execution_count": 38,
   "metadata": {},
   "outputs": [],
   "source": [
    "from abc import abstractmethod, ABCMeta\n",
    "\n",
    "class Human(metaclass=ABCMeta): #親クラス\n",
    "    \n",
    "    def __init__(self,name):\n",
    "        self.name = name\n",
    "        \n",
    "    @abstractmethod\n",
    "    def say_something(self):\n",
    "        pass\n",
    "    \n",
    "    def say_name(self):\n",
    "        print(self.name)\n",
    "        \n"
   ]
  },
  {
   "cell_type": "code",
   "execution_count": 43,
   "metadata": {},
   "outputs": [
    {
     "name": "stdin",
     "output_type": "stream",
     "text": [
      "0 or 1 1\n"
     ]
    },
    {
     "name": "stdout",
     "output_type": "stream",
     "text": [
      "Man say Taro\n"
     ]
    }
   ],
   "source": [
    "class Woman(Human):\n",
    "    \n",
    "    def say_something(self):\n",
    "        print(f'Woman say {self.name}')\n",
    "\n",
    "class Man(Human):\n",
    "    \n",
    "    def say_something(self):\n",
    "        print(f'Man say {self.name}')\n",
    "\n",
    "# ポリモーフィズム\n",
    "num = input('0 or 1')\n",
    "if num == '1':\n",
    "    human = Man('Taro')\n",
    "elif num == '0':\n",
    "    human = Woman('hanako')\n",
    "else:\n",
    "    print('error')\n",
    "\n",
    "human.say_something()"
   ]
  },
  {
   "cell_type": "markdown",
   "metadata": {},
   "source": [
    "### カプセル化、setter getter"
   ]
  },
  {
   "cell_type": "code",
   "execution_count": 57,
   "metadata": {},
   "outputs": [
    {
     "name": "stdout",
     "output_type": "stream",
     "text": [
      "getter name を呼び出しました\n",
      "getter age を呼び出しました\n",
      "Taro 15\n"
     ]
    }
   ],
   "source": [
    "class Human:\n",
    "    \n",
    "    def __init__(self, name, age):\n",
    "        self.__name = name\n",
    "        self.__age = age\n",
    "        \n",
    "    def get_name(self):\n",
    "        print('getter name を呼び出しました')\n",
    "        return self.__name\n",
    "    \n",
    "    def get_age(self):\n",
    "        print('getter age を呼び出しました')\n",
    "        return self.__age\n",
    "    \n",
    "    def set_name(self, name):\n",
    "        print('setter name を呼び出しました')\n",
    "        self.__name = name\n",
    "        \n",
    "    def set_age(self, age):\n",
    "        print('setter age を呼び出しました')\n",
    "        self.__age = age\n",
    "        \n",
    "    name = property(get_name ,set_name)\n",
    "    age = property(get_age , set_age)\n",
    "    \n",
    "    def print_msg(self):\n",
    "        print(self.name,self.age)\n",
    "        \n",
    "human = Human('Taro', 15)\n",
    "# human.name = 'Jiro'\n",
    "# human.name\n",
    "\n",
    "# human.age = 18\n",
    "# human.age\n",
    "\n",
    "human.print_msg()"
   ]
  },
  {
   "cell_type": "code",
   "execution_count": 62,
   "metadata": {},
   "outputs": [
    {
     "name": "stdout",
     "output_type": "stream",
     "text": [
      "setter name を呼び出しました\n",
      "getter name を呼び出しました\n",
      "Mac\n",
      "setter age を呼び出しました\n",
      "0以上の値を設定してください\n",
      "getter age を呼び出しました\n",
      "22\n"
     ]
    }
   ],
   "source": [
    "class Human:\n",
    "    \n",
    "    def __init__(self, name, age):\n",
    "        self.__name = name\n",
    "        self.__age = age\n",
    "        \n",
    "    @property\n",
    "    def name(self): #getter\n",
    "        print('getter name を呼び出しました')\n",
    "        return self.__name\n",
    "        \n",
    "    @property\n",
    "    def age(self): #getter\n",
    "        print('getter age を呼び出しました')\n",
    "        return self.__age\n",
    "    \n",
    "    @name.setter\n",
    "    def name(self, name): #setter\n",
    "        print('setter name を呼び出しました')\n",
    "        self.__name = name\n",
    "    \n",
    "    @age.setter\n",
    "    def age(self, age): #setter\n",
    "        print('setter age を呼び出しました')\n",
    "        if age < 0:\n",
    "            print('0以上の値を設定してください')\n",
    "            return\n",
    "        self.__age = age\n",
    "        \n",
    "human = Human('Kou' ,22)\n",
    "human.name = 'Mac'\n",
    "print(human.name)\n",
    "\n",
    "human.age = -1\n",
    "print(human.age)"
   ]
  },
  {
   "cell_type": "code",
   "execution_count": 78,
   "metadata": {},
   "outputs": [
    {
     "name": "stdin",
     "output_type": "stream",
     "text": [
      "好きな動物は？　１＝犬、２＝猫、３＝羊 3\n"
     ]
    },
    {
     "name": "stdout",
     "output_type": "stream",
     "text": [
      "ワン\n"
     ]
    }
   ],
   "source": [
    "from abc import abstractmethod, ABCMeta\n",
    "\n",
    "class Animals(metaclass=ABCMeta):\n",
    "    \n",
    "    @abstractmethod\n",
    "    def speak(self):\n",
    "        pass\n",
    "    \n",
    "class Dog(Animals):\n",
    "    \n",
    "    def speak(self):\n",
    "        print('ワン')\n",
    "        \n",
    "class Cat(Animals):\n",
    "    def speak(self):\n",
    "        print('にゃー')\n",
    "        \n",
    "class Sheep(Animals):\n",
    "    def speak(self):\n",
    "        print('メー')\n",
    "        \n",
    "class Other(Animals):\n",
    "    def speak(self):\n",
    "        print('そんな動物はいない')\n",
    "        \n",
    "number = input('好きな動物は？　１＝犬、２＝猫、３＝羊')\n",
    "\n",
    "if number =='1':\n",
    "    animal = Dog()\n",
    "elif number == '2':\n",
    "    animal = Cat()\n",
    "elif number == '3':\n",
    "    animal == Sheep()\n",
    "else:\n",
    "    animal = Other()\n",
    "    \n",
    "animal.speak()"
   ]
  },
  {
   "cell_type": "code",
   "execution_count": null,
   "metadata": {},
   "outputs": [],
   "source": []
  },
  {
   "cell_type": "code",
   "execution_count": null,
   "metadata": {},
   "outputs": [],
   "source": []
  },
  {
   "cell_type": "code",
   "execution_count": null,
   "metadata": {},
   "outputs": [],
   "source": []
  },
  {
   "cell_type": "code",
   "execution_count": null,
   "metadata": {},
   "outputs": [],
   "source": []
  },
  {
   "cell_type": "code",
   "execution_count": null,
   "metadata": {},
   "outputs": [],
   "source": []
  },
  {
   "cell_type": "code",
   "execution_count": null,
   "metadata": {},
   "outputs": [],
   "source": []
  },
  {
   "cell_type": "code",
   "execution_count": null,
   "metadata": {},
   "outputs": [],
   "source": []
  },
  {
   "cell_type": "code",
   "execution_count": null,
   "metadata": {},
   "outputs": [],
   "source": []
  },
  {
   "cell_type": "code",
   "execution_count": null,
   "metadata": {},
   "outputs": [],
   "source": []
  },
  {
   "cell_type": "code",
   "execution_count": null,
   "metadata": {},
   "outputs": [],
   "source": []
  },
  {
   "cell_type": "code",
   "execution_count": null,
   "metadata": {},
   "outputs": [],
   "source": []
  },
  {
   "cell_type": "code",
   "execution_count": null,
   "metadata": {},
   "outputs": [],
   "source": []
  },
  {
   "cell_type": "code",
   "execution_count": null,
   "metadata": {},
   "outputs": [],
   "source": []
  },
  {
   "cell_type": "code",
   "execution_count": null,
   "metadata": {},
   "outputs": [],
   "source": []
  },
  {
   "cell_type": "code",
   "execution_count": null,
   "metadata": {},
   "outputs": [],
   "source": []
  }
 ],
 "metadata": {
  "kernelspec": {
   "display_name": "Python 3 (ipykernel)",
   "language": "python",
   "name": "python3"
  },
  "language_info": {
   "codemirror_mode": {
    "name": "ipython",
    "version": 3
   },
   "file_extension": ".py",
   "mimetype": "text/x-python",
   "name": "python",
   "nbconvert_exporter": "python",
   "pygments_lexer": "ipython3",
   "version": "3.9.12"
  }
 },
 "nbformat": 4,
 "nbformat_minor": 4
}
