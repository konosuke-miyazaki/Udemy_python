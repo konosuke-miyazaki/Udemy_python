{
 "cells": [
  {
   "cell_type": "code",
   "execution_count": 1,
   "id": "7e2a24eb-9832-44cf-bfc6-ff5474f094ee",
   "metadata": {},
   "outputs": [],
   "source": [
    "import os"
   ]
  },
  {
   "cell_type": "code",
   "execution_count": 2,
   "id": "52063e6e-2c10-43eb-888c-b17f42ed27d2",
   "metadata": {},
   "outputs": [],
   "source": [
    "os.environ['GOOGLE_APPLICATION_CREDENTIALS'] = 'secret.json'"
   ]
  },
  {
   "cell_type": "code",
   "execution_count": 3,
   "id": "b65018c2-948e-49bd-bb49-d1c5088bad6b",
   "metadata": {
    "collapsed": true,
    "jupyter": {
     "outputs_hidden": true
    },
    "tags": []
   },
   "outputs": [
    {
     "name": "stdout",
     "output_type": "stream",
     "text": [
      "Collecting google-cloud-texttospeech\n",
      "  Downloading google_cloud_texttospeech-2.11.0-py2.py3-none-any.whl (69 kB)\n",
      "\u001b[2K     \u001b[90m━━━━━━━━━━━━━━━━━━━━━━━━━━━━━━━━━━━━━━━━\u001b[0m \u001b[32m69.6/69.6 KB\u001b[0m \u001b[31m1.5 MB/s\u001b[0m eta \u001b[36m0:00:00\u001b[0ma \u001b[36m0:00:01\u001b[0m\n",
      "\u001b[?25hCollecting proto-plus>=1.15.0\n",
      "  Downloading proto_plus-1.20.3-py3-none-any.whl (46 kB)\n",
      "\u001b[2K     \u001b[90m━━━━━━━━━━━━━━━━━━━━━━━━━━━━━━━━━━━━━━━━\u001b[0m \u001b[32m46.2/46.2 KB\u001b[0m \u001b[31m1.3 MB/s\u001b[0m eta \u001b[36m0:00:00\u001b[0m\n",
      "\u001b[?25hCollecting google-api-core[grpc]!=2.0.*,!=2.1.*,!=2.2.*,!=2.3.0,<3.0.0dev,>=1.31.5\n",
      "  Downloading google_api_core-2.7.1-py3-none-any.whl (114 kB)\n",
      "\u001b[2K     \u001b[90m━━━━━━━━━━━━━━━━━━━━━━━━━━━━━━━━━━━━━━━\u001b[0m \u001b[32m114.7/114.7 KB\u001b[0m \u001b[31m2.2 MB/s\u001b[0m eta \u001b[36m0:00:00\u001b[0m00:01\u001b[0m\n",
      "\u001b[?25hRequirement already satisfied: requests<3.0.0dev,>=2.18.0 in /Users/miyazakiakiranosuke/opt/anaconda3/envs/streamlit/lib/python3.10/site-packages (from google-api-core[grpc]!=2.0.*,!=2.1.*,!=2.2.*,!=2.3.0,<3.0.0dev,>=1.31.5->google-cloud-texttospeech) (2.27.1)\n",
      "Collecting google-auth<3.0dev,>=1.25.0\n",
      "  Downloading google_auth-2.6.0-py2.py3-none-any.whl (156 kB)\n",
      "\u001b[2K     \u001b[90m━━━━━━━━━━━━━━━━━━━━━━━━━━━━━━━━━━━━━━━\u001b[0m \u001b[32m156.3/156.3 KB\u001b[0m \u001b[31m3.4 MB/s\u001b[0m eta \u001b[36m0:00:00\u001b[0m00:01\u001b[0m\n",
      "\u001b[?25hCollecting googleapis-common-protos<2.0dev,>=1.52.0\n",
      "  Downloading googleapis_common_protos-1.55.0-py2.py3-none-any.whl (212 kB)\n",
      "\u001b[2K     \u001b[90m━━━━━━━━━━━━━━━━━━━━━━━━━━━━━━━━━━━━━━━\u001b[0m \u001b[32m212.3/212.3 KB\u001b[0m \u001b[31m4.1 MB/s\u001b[0m eta \u001b[36m0:00:00\u001b[0ma \u001b[36m0:00:01\u001b[0m\n",
      "\u001b[?25hRequirement already satisfied: protobuf>=3.12.0 in /Users/miyazakiakiranosuke/opt/anaconda3/envs/streamlit/lib/python3.10/site-packages (from google-api-core[grpc]!=2.0.*,!=2.1.*,!=2.2.*,!=2.3.0,<3.0.0dev,>=1.31.5->google-cloud-texttospeech) (3.19.4)\n",
      "Collecting grpcio<2.0dev,>=1.33.2\n",
      "  Downloading grpcio-1.44.0-cp310-cp310-macosx_10_10_universal2.whl (4.1 MB)\n",
      "\u001b[2K     \u001b[90m━━━━━━━━━━━━━━━━━━━━━━━━━━━━━━━━━━━━━━━━\u001b[0m \u001b[32m4.1/4.1 MB\u001b[0m \u001b[31m5.8 MB/s\u001b[0m eta \u001b[36m0:00:00\u001b[0m00:01\u001b[0m00:01\u001b[0m\n",
      "\u001b[?25hCollecting grpcio-status<2.0dev,>=1.33.2\n",
      "  Downloading grpcio_status-1.44.0-py3-none-any.whl (10.0 kB)\n",
      "Collecting pyasn1-modules>=0.2.1\n",
      "  Downloading pyasn1_modules-0.2.8-py2.py3-none-any.whl (155 kB)\n",
      "\u001b[2K     \u001b[90m━━━━━━━━━━━━━━━━━━━━━━━━━━━━━━━━━━━━━━━\u001b[0m \u001b[32m155.3/155.3 KB\u001b[0m \u001b[31m1.2 MB/s\u001b[0m eta \u001b[36m0:00:00\u001b[0m00:01\u001b[0m00:01\u001b[0m\n",
      "\u001b[?25hCollecting rsa<5,>=3.1.4\n",
      "  Downloading rsa-4.8-py3-none-any.whl (39 kB)\n",
      "Requirement already satisfied: cachetools<6.0,>=2.0.0 in /Users/miyazakiakiranosuke/opt/anaconda3/envs/streamlit/lib/python3.10/site-packages (from google-auth<3.0dev,>=1.25.0->google-api-core[grpc]!=2.0.*,!=2.1.*,!=2.2.*,!=2.3.0,<3.0.0dev,>=1.31.5->google-cloud-texttospeech) (5.0.0)\n",
      "Requirement already satisfied: six>=1.9.0 in /Users/miyazakiakiranosuke/opt/anaconda3/envs/streamlit/lib/python3.10/site-packages (from google-auth<3.0dev,>=1.25.0->google-api-core[grpc]!=2.0.*,!=2.1.*,!=2.2.*,!=2.3.0,<3.0.0dev,>=1.31.5->google-cloud-texttospeech) (1.16.0)\n",
      "Requirement already satisfied: certifi>=2017.4.17 in /Users/miyazakiakiranosuke/opt/anaconda3/envs/streamlit/lib/python3.10/site-packages (from requests<3.0.0dev,>=2.18.0->google-api-core[grpc]!=2.0.*,!=2.1.*,!=2.2.*,!=2.3.0,<3.0.0dev,>=1.31.5->google-cloud-texttospeech) (2021.10.8)\n",
      "Requirement already satisfied: charset-normalizer~=2.0.0 in /Users/miyazakiakiranosuke/opt/anaconda3/envs/streamlit/lib/python3.10/site-packages (from requests<3.0.0dev,>=2.18.0->google-api-core[grpc]!=2.0.*,!=2.1.*,!=2.2.*,!=2.3.0,<3.0.0dev,>=1.31.5->google-cloud-texttospeech) (2.0.11)\n",
      "Requirement already satisfied: urllib3<1.27,>=1.21.1 in /Users/miyazakiakiranosuke/opt/anaconda3/envs/streamlit/lib/python3.10/site-packages (from requests<3.0.0dev,>=2.18.0->google-api-core[grpc]!=2.0.*,!=2.1.*,!=2.2.*,!=2.3.0,<3.0.0dev,>=1.31.5->google-cloud-texttospeech) (1.26.8)\n",
      "Requirement already satisfied: idna<4,>=2.5 in /Users/miyazakiakiranosuke/opt/anaconda3/envs/streamlit/lib/python3.10/site-packages (from requests<3.0.0dev,>=2.18.0->google-api-core[grpc]!=2.0.*,!=2.1.*,!=2.2.*,!=2.3.0,<3.0.0dev,>=1.31.5->google-cloud-texttospeech) (3.3)\n",
      "Collecting pyasn1<0.5.0,>=0.4.6\n",
      "  Downloading pyasn1-0.4.8-py2.py3-none-any.whl (77 kB)\n",
      "\u001b[2K     \u001b[90m━━━━━━━━━━━━━━━━━━━━━━━━━━━━━━━━━━━━━━━━\u001b[0m \u001b[32m77.1/77.1 KB\u001b[0m \u001b[31m2.6 MB/s\u001b[0m eta \u001b[36m0:00:00\u001b[0m\n",
      "\u001b[?25hInstalling collected packages: pyasn1, rsa, pyasn1-modules, proto-plus, grpcio, googleapis-common-protos, grpcio-status, google-auth, google-api-core, google-cloud-texttospeech\n",
      "Successfully installed google-api-core-2.7.1 google-auth-2.6.0 google-cloud-texttospeech-2.11.0 googleapis-common-protos-1.55.0 grpcio-1.44.0 grpcio-status-1.44.0 proto-plus-1.20.3 pyasn1-0.4.8 pyasn1-modules-0.2.8 rsa-4.8\n"
     ]
    }
   ],
   "source": [
    "!pip3 install --upgrade google-cloud-texttospeech"
   ]
  },
  {
   "cell_type": "code",
   "execution_count": 29,
   "id": "98e0e595-1f69-418a-bdaa-58c661580807",
   "metadata": {},
   "outputs": [
    {
     "name": "stdout",
     "output_type": "stream",
     "text": [
      "音声データはじゃんさく.mp3に書き出しました\n"
     ]
    }
   ],
   "source": [
    "from google.cloud import texttospeech\n",
    "\n",
    "# Instantiates a client\n",
    "client = texttospeech.TextToSpeechClient()\n",
    "\n",
    "# Set the text input to be synthesized\n",
    "synthesis_input = texttospeech.SynthesisInput(text=\"じゃんさくはブラック企業です\")\n",
    "\n",
    "# Build the voice request, select the language code (\"en-US\") and the ssml\n",
    "# voice gender (\"neutral\")\n",
    "voice = texttospeech.VoiceSelectionParams(\n",
    "    language_code=\"ja-JP\", ssml_gender=texttospeech.SsmlVoiceGender.NEUTRAL\n",
    ")\n",
    "\n",
    "# Select the type of audio file you want returned\n",
    "audio_config = texttospeech.AudioConfig(\n",
    "    audio_encoding=texttospeech.AudioEncoding.MP3\n",
    ")\n",
    "\n",
    "# Perform the text-to-speech request on the text input with the selected\n",
    "# voice parameters and audio file type\n",
    "response = client.synthesize_speech(\n",
    "    input=synthesis_input, voice=voice, audio_config=audio_config\n",
    ")\n",
    "\n",
    "filename = 'じゃんさく.mp3'\n",
    "# The response's audio_content is binary.\n",
    "with open(filename, \"wb\") as out:\n",
    "    # Write the response to the output file.\n",
    "    out.write(response.audio_content)\n",
    "    print(f'音声データは{filename}に書き出しました')"
   ]
  },
  {
   "cell_type": "code",
   "execution_count": null,
   "id": "7d9c4733-29ef-4794-976f-bff4d593f0aa",
   "metadata": {},
   "outputs": [],
   "source": []
  },
  {
   "cell_type": "code",
   "execution_count": 14,
   "id": "ece448e7-22b4-401b-9035-40d066fb358b",
   "metadata": {},
   "outputs": [
    {
     "data": {
      "text/html": [
       "\n",
       "                <audio  controls=\"controls\" >\n",
       "                    <source src=\"data:audio/wav;base64,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\" type=\"audio/wav\" />\n",
       "                    Your browser does not support the audio element.\n",
       "                </audio>\n",
       "              "
      ],
      "text/plain": [
       "<IPython.lib.display.Audio object>"
      ]
     },
     "execution_count": 14,
     "metadata": {},
     "output_type": "execute_result"
    }
   ],
   "source": [
    "from IPython.display import Audio\n",
    "Audio(response.audio_content)"
   ]
  },
  {
   "cell_type": "code",
   "execution_count": null,
   "id": "8953d737-a4c3-41d6-b70d-cf1319a45df2",
   "metadata": {},
   "outputs": [],
   "source": [
    "from google.cloud import texttospeech"
   ]
  },
  {
   "cell_type": "code",
   "execution_count": 35,
   "id": "fdfd31ef-8535-4652-bd7d-ac302ef79de3",
   "metadata": {},
   "outputs": [],
   "source": [
    "def synthesize_speech(text ,lang = '日本語' ,gender = 'defalut'):\n",
    "    gender_type = {\n",
    "        'defalut':texttospeech.SsmlVoiceGender.SSML_VOICE_GENDER_UNSPECIFIED,\n",
    "        'male':texttospeech.SsmlVoiceGender.MALE,\n",
    "        'female':texttospeech.SsmlVoiceGender.FEMALE,\n",
    "        'neutral':texttospeech.SsmlVoiceGender.NEUTRAL\n",
    "    }\n",
    "\n",
    "    lang_code = {\n",
    "        '日本語':'ja-JP',\n",
    "        '英語':'en-US'\n",
    "    }\n",
    "\n",
    "    client = texttospeech.TextToSpeechClient()\n",
    "\n",
    "    synthesis_input = texttospeech.SynthesisInput(text=text)\n",
    "\n",
    "    voice = texttospeech.VoiceSelectionParams(\n",
    "        language_code=lang_code[lang], ssml_gender=gender_type[gender]\n",
    "    )\n",
    "\n",
    "    audio_config = texttospeech.AudioConfig(\n",
    "        audio_encoding=texttospeech.AudioEncoding.MP3\n",
    "    )\n",
    "\n",
    "    response = client.synthesize_speech(\n",
    "        input=synthesis_input, voice=voice, audio_config=audio_config\n",
    "    )\n",
    "    return response"
   ]
  },
  {
   "cell_type": "code",
   "execution_count": 26,
   "id": "e365a8b2-89e1-4232-b662-77969c28750c",
   "metadata": {
    "collapsed": true,
    "jupyter": {
     "outputs_hidden": true,
     "source_hidden": true
    },
    "tags": []
   },
   "outputs": [
    {
     "data": {
      "text/html": [
       "\n",
       "                <audio  controls=\"controls\" >\n",
       "                    <source src=\"data:audio/wav;base64,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\" type=\"audio/wav\" />\n",
       "                    Your browser does not support the audio element.\n",
       "                </audio>\n",
       "              "
      ],
      "text/plain": [
       "<IPython.lib.display.Audio object>"
      ]
     },
     "execution_count": 26,
     "metadata": {},
     "output_type": "execute_result"
    }
   ],
   "source": [
    "from IPython.display import Audio\n",
    "Audio(response.audio_content)"
   ]
  },
  {
   "cell_type": "code",
   "execution_count": 36,
   "id": "736097ba-797f-41a5-bb1a-20ed0456bf3a",
   "metadata": {
    "tags": []
   },
   "outputs": [
    {
     "data": {
      "text/html": [
       "\n",
       "                <audio  controls=\"controls\" >\n",
       "                    <source src=\"data:audio/wav;base64,//NExAAAAANIAAAAAAMBJC7gJYADAAYA/BVhhhIBcCEKCJDfq9DzQNBDEMVisZHlOD4OAgCGTwxLg+D44H3iA55cEPlAQOf8Mcu//8EDn/y4PvKQwmk2zGIPMChAykcD//NExFMR6G34AU8QAKeY6k6YeAiNZjgCGOwBZxlFgaAjB9ZunMiZJP2oSbJgzJn9BnMCkYjVFDBaB+O/NEiKA4eKRDVYDQcDCFAyL/Kxqbl8pDgQAYgAZ1GF9gN6hCJY//NExF4hAx5QAZygAAkBAKcf/Tf4YjLxbLhui9///9uq6GpaKnS///9v+eScxSNmaboKio6CM5Ih0xjE1dMxZAwbUyZFvUAjFZPFMLs///jb73/qfMf01Z5r53ArZkhs//NExC0bmXaEAdp4AOwE8JZECoNQywA4cBfyXi3mWrCXm4Wh/I9yV7qp7LDYhi+qjkOckBiJ4WhZKtBqNJqlNqRWocr4UMePBwz////9Fd0gKclg1UUxaKhQqp6BAAMh//NExBEVSWqgAMMYlR+FbTn/pHJWdh5OzQwMBIQDNG4VAoq+oYLZ4ucbMTXqDFcO4Hx1BAsrWNhpEeVdc6VllF0RY5KeQl+XEi1nFqHcKJtzqtQCO4u3XEEa94+PaNbJ//NExA4ViWqkAMvSlEIf8hhVFt2NUo+x/s8ZxgGGxuQZZJCxNCHl9SjjAZfnU1c11JCzLcRFxSTGxRIMoysDKOD06xmavRTQEYVTPUswYLlZsJRDVFXC6KQiz9MFDEgo//NExAoT2WaoAM4SlYDxTH1HgXPOwarBfsONRyVsFEWBQavEvjM1Ws4arW9dwyy5+/3z/526hS90vuwiStojDeyyUehTwhKUIiq6ttLwZUto9OqzNEjY2vFixUt55SFk//NExA0S8VqkAMvMlZj35Mp9clEyIeeUSVytMEN0gwAeHGyMK0qGFxj2jTe2v6a1fet4qbcpAspClVLx67bWybqImBwq8d0S2XSRYp2GhRE1rnMBJgHnXqnqisX44EpY//NExBQQwPagAMsYcbMnkSUSV6YyK6taicZMY/s39mmMmnVzr1b1NqNsdDYzGA8plTGO//9QKZt+Mxoo7dbgaaK4EYBEFItX7cEQ5RLK+NgXTTAmjA9rBfALnP9OvMMd//NExCQSaUqgANGYlP6nRBipLHZYyEJIgVEZZVHrl5+epLfb91kTd7PkDLWX/////4xV1tuQN6DAICVTMgCSULdkR6fdKAIGEAbyzg7s3aWf/S2bgEuSxIh4EQ82BIaA//NExC0VmYawAMjSlEWFIiCAhIiEfSFALk7ROJFCMTCVAFxUKlwEHUbxRG3I/UW/d////0UCiuaqjrg5OuLyBw5NTTL+YfCL6cr5l7//8zO1yjy5tAVvMnChTNjllbg8//NExCkReXq4AMFYlJUXQjQYNXSeYomywpijNFr9I2jQMf////2PbR/V/vFggOe99inFBJu/ytIOVBPmbKmj/////vaku28iNAgQJs1SxEdfuEonkTFyCkRCWQztzZxZ//NExDYRoYa4AMiSlCXmyzJwlb////9jEIX+2xCF/+U5sda3UQ5GwUJ7psjTFqG9BTKLvydX5Op/8MnaFviEYXRy0VAggWaDCBCFRS8qKWG0FIoLvaRKo1SryBzKFZha//NExEISiY64AMFSlEI/////H2mUKty4A1hAhuYEHCCoUwwYD7b1BTXrsir+Yu/N69hM+GHJ1BAX1BGBF2RANP5AQf2RCndSEQtvtXf4s/2dfVpoW460J68iKbs9/9XR//NExEoRqYq8AIrSlUTG8M7Ka1vWyqJV8LNhPJNeqOn+lzf/Lr/wpsawi38ex3M7ncCUKGcA2ITKGn2SBwjn8HpXB0VtvykvodHI4+Zzhg9XSukF8BMmnBAE3sOcC/x9//NExFYR2Y7EAMPQlU4nSv38na7/lVsf+EtU+FMo77bUJS+8egu9BPiQWfFRZYkHjupQ62pX0biR3qHmhoH0AxJf///0VcufiFZQffxf9AFPZyRYrDo+Iw+jKn1tQ6/l//NExGERiXLEAJPKlFM5f7VsXWIMLdpGOa+swBaJYVNuJGXaWCkW3o5tp/+/4a+fvoWOhIiittLqqVq7AD2pXZIqUABv7ELzoQFT41xnlFsxG4xmV3KZkMyky5FJypDC//NExG0RWXa4AMPQlUgFDgiLB54gYSUS0JWiJ//zOzMZRGIwmp////T9VaCBopGzvixIvFIySAjCg1XO62Blk7uvRPqWugWJzyBMfHrR867y+A+SrHaqX5KEJ+w/Q5D8//NExHoRGY6UAMmKlDYxOVA7AEKhfXhOAAs3Xw7EANC9SHYu5BlIeg5A4DwspQaCGI9knjA1AhjKMGOYMyh3BaUlJ0/x////////URPfe6TqnL2lfL13pzzforvWXBma//NExIgh6waQANMQue52HTM8QFjeNRCcdKYHFIrahqEKLrHHZshG/xWEZuVKkDEVlW/kQ8JM6EPIQyxTSASBHFCQIYYjSqNFKmUBKDzUrUd516YnqeV+IzK7hXozIWqm//NExFMfSZqgANJelDXCviOL4/TZFvnV6VQ8+2tiVzzJkJj4i///Ez0MhccQDMfZL495M/WOC9X/3HCWkMZ3I0C5NRyxgNRlsUB/K8waPmDVs8tymp4P3HL+GWs2MbMm//NExCgUMZq8AMHelLTCQP2NeAufn0b5/8Pdf01/eOy6zDZWa0B4pa01eNu3///76M9b/2xZyw1YLlsczrCggyMZt3Gu2newFv+Jf3ufwlXt0ctrmHI0sUEMOAXHwUND//NExCoQ8Y68AMGQldRTiTbLFAbHalCzdzX3/rzyqtTXQ8ixXbBRjzTl9GWQ1ZCSoCnyAWKwKxODCX2o4WAbRfDtpI3W2f2JX2JbMkY05MAkdjKyGsZSCwChYKaj2//7//NExDkQmYqMAMGKlWZjOhhEcgUsV4o6JRByMDgkxM8GqMFDKfrQEywUJS/CVQ1Fsdaw/DUqtd5wq+tFoj3EWDoCjnlEUaHVUtpi/Z+/qosRHep7P+hi3bvz2ptnI2Sy//NExEkRuNYwAVsoAAS4loSc3W7/+NEABv//Nig5HTwNKjA0Z0A5H7cDHBgbOCDBSf/hlsZMDEBgMICCxz/8DAhQMWJCzYdOI4E4f/4bYapmlQ+P//xwiPwbHCWjNkDJ//NExFUg4ypcAZigAPNf///xSYsYpc6M2DcwToTgcuQcg4N4P////8ZgnBBMg5uRcyIgPY5h4LYDOic1ZVF2IGY0aOo9YNAchpA2G78gsAU6NHhPoz9zFqIyXqsXOIjB//NExCQbAca0AZh4AF2Y7etmnEh7+mNRxKYUhwOEeBFxa3zv/O+8h6jYd51n/7t6X+cQ8YvmK3S6z9/+76Z/v//7jmh+wlYSd63et4HNCjyRU9JflvxlL+hGHev7VRHg//NExAsVCaq4AdhYAL80tUGPt41Z0pDLd0qwkxl1sA8XtA4yLEY2uGBsOlFpin8Fb/TVmoIE3vMQsW8mh52oh8lDPiPkqOVCRDr+S21y39q93f///4uq6AUWWnUIqJxS//NExAkSoZq8AJvWlFj8BCxEM0JmA02+GJKfqYvO/2Jo/hIbHxlSlJveUlSnJIp8lT+MiHN49Bp8HjnDTnw9nEnP1UODUeFtpqeqXOWiOucAadEL1juZQjgG/jBdg+jK//NExBERuYrAAINSlUqyGUdQ9nrOdAnH8wJZ8dg3HlBQN3sEjUCAkXZWYECNiCBVmoVeQhcf8l4ZOPm57oYuhgxFgf/GXlErW2eApONugUOXtnOCmo3cV5WnM9ULqhpx//NExB0SKY7AAMFSlI0ssXDwFIFQ0QkZ9wiEUyBsy5GUbbjV+F1u3uzllJdhaGPto2sea7////9S/8SEqF29DjFYrE9UndfEtReUtCtt283etdmLkoomASyYQFGE0CVJ//NExCcSAZa4AMCMlJIFCSBKUQgttTh7SQaCKyzCNueVJSksIHf////sc3/oF7lhsAd0oVi7BE6JRh4ojY/w/mHJfif/lr3V31k0OClEJmXVLvsUlSWYZOkpwXWWm/wb//NExDISCZKkAMBSlIddhNYuxFUo0+2v///6qq6BYRW/y0jVdpuIhYO2YmTHADREaW6sRh2tfx5Nfk////9b+bVEkjiSaNFJVUy4KROAS5p0e7os+U+Uzos7ErCYaxKs//NExDwRwYqEAMhMlDSga///Dlnh0ReVAcqaSGlAgd8I4xmRyggGBN+vCZU4BQ2Jh2pxuGoiWVpAQ8sOfRqWAQksNH1e6kcOdQV27qyqtXuY7rTu65FOa05ZPT4y5EBB//NExEgQcDYsAN6YBIgj+uPRO9Vr3abKkww/Okw5vmqSxtE69f+/Jx06+QRKACN34mEic/qZrqkNia29El6tTf1IKBhKi3pfWn8nUurAIR0EpaojPY6i+Nd7uNYtR2Gl//NExFkRKQIoAVkYABPHSPJVaKBoceSi9Fzuq7NDktlIMR2015qCOOgmUaMo3HaO1dYd51dtnL5tnslrDpjJvDeH0T2f9TbD5o6YKc4eJt/zbjWv/762EnbDZVQOPMjz//NExGcggyKgAY9YACJq/l0Maz////85T3fGmSG2gn7ph7YPUiw9Ke1YzIAeHK51eQKgbu70dYQ8mOErv81X1/8r9/u97ZnbP3bu7RlSTHoIH6QfTHi0JSML2D0O1/Hb//NExDgQmYa0AdkwAcZHvX7XNaUX5J9V1+CwYqa3VnziBM768rfn40Mawi1It73M1Efl1V3JuVn31wq08hQ0WL1qBlD4lVo1nzfncmsPWYx6sxn0PVS0fgCw7/////Sq//NExEgRyY64AMFYlL87IjFsBlk0Mt1MB2btNmYzzygLI6PzK/TpLqXUz/SKZCz1TgJEyIZACKXoYSkqZjGUpS/l/W16lLVbQ5JpE0mQtf///9T/iU6iOKAOJHEgq+HW//NExFMScZacAMCSlKMDE2IlybfcLuPN4Za7zX4/jyYr/7279v5bXliSUkVAIUTCQa5lhNqcJA6eCgVIukqREsFnzvuVru//7P2f0zNoNA3n+2CAk/3oBX0ETcYYSkTT//NExFwR+QpAAVkwAMlzhoUAug4hgRC/Tc+gxgUh7FMTj9FzQuIm4WkGgL6HPLoE0/jzLjIpGhoOcAUwBADyGIT0k/+tM3QZk6iMRBbkMsCLjuRG//9k01M26mYikwcD//NExGcgwyqIAYloAKKJokgbF0dv//v72Zbv5sXymVmyy8arRMBlkuta2Y9WHjIT02Pk9u8w5F0UTdLZCHQ30vCtutjNi9LptzWjM+0WLCg25ObyAJoA+BDYICEDRuRk//NExDcfOwagAcZIAZ2W6IrIYEIjTNLIovVvKT9VG/sEpKNoK76Z1OaZy5T9ZH+f86rNjKG1n/qGMJeHzzhVL+71IxXhkIZPqU6WJzbjGEUkHRDGkzQkfDZVX//////0//NExA0SqerAAEiEmedVPFzA3CmmMQMVhIzChVzGlL2bdJizWyW031fAkQQIRkKLPogT8z1b8NvwISfJhyHcPWZq/X0N/zbUBevlPCi8/9P//+10dTDDuJQzo8rWRVZW//NExBURyxLEAAiEuaP7d/7NsrWJ8rL1ytdUSZb1m5HvopC5X0OV2WpqWNs7HmUogjleSjIVXU50BDzkKBnEqi//+c3ma6/1cxjCAnE/19168s/6IVO///68vorlyaa///NExCARyxq4AAhKvKM7TuJ9BioyOIFYYKzkDAgUphURExRBMJhwTICDTkYeUTFjKJC4u1V///+kv3v4fi/8/8v/rz///xf//////zP18f8Nc1+0pU0jTzqSzRNvA5Sh//NExCsSmyKwAAhQvJVK2NJu5NFnFShpxpA9g6FjbCIQihZRBFRiDSg0JxsKH///w////////////////////////9V//ZpWLKH2vFpaC0cHEmqQPu4OaVxxrmsctOgN//NExDMSoxacAAhQuWCRUYLCwsNFiwWmw44OjiVKBUDYTg1iegL4F1ZkXzdzyX////////9//L0UqLWanMdZnVWMrh1HKJHAoDBQfHCylEjlcokNAokLVEhMVRyoLK8R//NExDsP0wpcAJAKuRweqmlqMNcOWmZg0qA6WL1Kh0GDgmaCIkBkkBXpeWJMXtZmEMc6XgVsgNdJIFxXZSepvDutgCKKJw7HbVmb0PP3qaPKGQ5eLgNC6F0VsbSTeQQD//NExE4R2CYcAVoYAJ4k27cANTTTJhNf2cSrdrkqfHuE7HmTEFvJISATs4bhzj5Z8jHyMWkokk1L9F0DIxSUZqN00H/JAnnDZc3cwY0nzP/ZTHSkeLp9ZmfrZaVaX339//NExFkgcwqgAZloAc2J5kgOceiB88UEkloo1mKVJP/f+YIm5cZAvlw2TQN1NmpxFjIxNyfx3SuiKNUlfqokoLMpVsJ8CQp5w2nY76/FHTQyvbOOq7DeTOuiigtX//3r//NExCoRoW64AdhoAF7U1Myc+6CmSqUums0TPpmizyJ+ahsmes////6l/ckAAjfVZUNLTz6ASpEZxnYTwTKA4BcJqI7DihOxfIeXE0ymarTUk////9LOYGDcSLOiGOYG//NExDYRyWK4AMwElBTiRQAV0cMxk+Kv/////XZIKubrG8OWRewiNRkhAquAH3LNtqmH4CTLEgAPUZlEZ9FEwLx+z7bf///ep2hwOtE3OHyB4KAokHggIscSHAlDX/////NExEERAVqwAMSKlP/jK8biU4qZG5YYKXHvClASM7SsoYpVIaDZRFicBB4cgiQ+yanSJLYoPUj////3/8/r+pUovlEhM9moBRdmwIDQ6KPhAqquozjGm/////oLh4Uc//NExFAUQXqoAMzSlAbHKKE5MhbIYwMCWgTIzqVgk0SNwE9haSaC8ASkIUBbWlF5ga1I1I6tX/9e/v/+3nmoXFCh0CASIocAwDURElRdVLk67////+nT1XICgUTSQ+Pj//NExFISOW6sAMwQlMihosQwhu4izZvRBCEPqcK4CrjBYEjk+ogSaZNttV2176/mvvm/r3bCi8wM7QbahJuxXLD02gffBn0t/////av9lgg0uaIQrIlbKEE0ikBiU1OU//NExFwSQXaoAMzWlAuLLBOFtgl3AwqRTB4HGmZ7wHt4H9M5vj41/rffHrLvH/ia5l/7tY+wccaBHHuqTqT69GTqx0MJCQ0BhWFCFu5f5qCgAhDEibztHzxZl93WF5qu//NExGYR2WqwAMPMlRyEkDpZBqJJgBpAK60trL5ftydtstAHcCAQaG1lVoZUjstEigwuYkwQuQJlnWQGPoJcPiZDoWjLdgos/hCKf8GInXcZODMtO5/rveZowz9iGC4W//NExHESgVqsAMsGlTVf1cXbGdqzqcjphUFVOqWAg0MoD6orawy5RH/////UuiqKkAAYcwgYdEjs5o/BRALJCmRd5DVagdk15hkdiUeHUf5Wr8BJ5LtSK8PPTIo5joCA//NExHoSEPqMANMScAMYgADodJiIruTCNjhdqVO/////+NG1dNhx3wRYAHufl+DEqU9QaUWmzq/Zk/b1PDUtp8dbww31BQuHcsp//OHkVYUHDm9nRZOYQQFAzEOGAfEA//NExIQR2SaAANsGcC4DAgJgQIBj/////qmFASgbpDlIBqQ5GZ9IWqIkxNEBR9WUiNupG4/NwqWmKCaBmm7Gp52mj2Uym2clNBAq0FCDDLLg5x2jiCcCBl8ly6mPAE5B//NExI8SYSaEAVoYAGsOSMEBqABMOIjCNjFIZQPgUMdRxiWGhiXxtAgoFKEsMwsiAXE0fzN03+YmL///X///1rzNaTf/TWZm6D91YLi5hTEggPgLJAIiIeHUGKL4MQIE//NExJghosaMAZpoADkEqtL9eP/////5ueWFLi8YGJIlQlk4lkIPRIHcaFY+jycUHaWDpJBGHodhmO8qXNrUVo1AyarFuR8yrOCkxFU2AW/e4LsvvaZphR4dffWjp6Vu//NExGQRyWqkAdNYAeN89uWnSEWW90eLS6+Ww7xmCvk6O85i1PAny7RRHv062RpVcxPFEyL6lVziaCrXKbZ13RuevX6tmfbETUf////LgQacHbLAzeTE9hGePm1Ax8wA//NExG8YOXKUAMmelLMuBMYHMsWSsijotfVrSnlAxu48JrshDUx9VvojJFSCwcGFJAPw6XhODqiEifPR4xVwU2wlzgTENBWHVthPF4pXCAxQ4b2PVwa2KGh71VnkiF1H//NExGEdIXqMANPelFhrjTs7W1RaTPPt////7VAgEByFysAWgsLKDBETnkS6YMJizVZCKSzZfJGn16FhZ40dkVrcyPVG8VEKJUnicJ2SM7S4QXB6zSP4rpxaZ2NTIMuZ//NExD8bEoqYANPOue7QaCRzp9u8XPnwo8hpNDBGQ0FBYIoExePHnDhIaGET3olP/////////tQcRlX7CaRzQbzwGLEA5fBIJPGHHvdQO1LHqGxsVbomlLaz5iWHrKq1//NExCUWMWakANPSlFGOK4kFK2OtVhQIUtMVaSaFIjkQD4ds16VnsNqo39nDspvI1EAy2QOML6uIyd3////1zy38ImNgavKH+E7t/GhHCpeyibcyqOfnDqoIWVQYVBRD//NExB8RoVK0AMJGlImJ4a3CGZOG5kMLAwwSIBDXrzL75Fap8dHYGHwXBQa0mv////963IWpy4F9TcPz4kxPuEMwWvnnQ3Oc1f5yrhz7e/I+iI/BMhAlqg8JSeaakKaY//NExCsQUVK4AVhIAOqTN6REu6pP7PP6v/f47nTq7WFxaRpVGThwAowmM2EMaWNezDAhc5yHyaczte0OxX7kOmbF4lFm4wpKk5RJByiumX3TII3DhJwK0YlRSdjpsSgX//NExDwgsyqUAZpoAGC+CYAAOAn51B1tLh5O8LgBhj2HiWkpWY663ZdkB0HuJmRSETxv/6009+NpOLyaBkur////utaCf1f6///+ZqWrSZSalnDNWidAdQdxkmBD4Erk//NExAwSAW64AdNIATTwoYcDpGKdI05fedyvGfqfqk2/jbZogTJhGEAXAo0hBAiKoDJEaZL1HI+VN3qUXVB9uRMu61Rt0UJ3aP3ohw1D+lQI16AZxmA1THx4jnCkimTi//NExBcSqYa4AMMQlDnS5FdgmewIA25gumWXJJYu0dFpYsJGYQgJm0UJ+Mn4H/t7C9bCPXRt7T6p9Du/////1VrPtIMyTYpn0LwJ5ROOmc4lHC6ybucARGcpDARkg4FA//NExB8SgJq0AMYYTJpwRQNPQHQjLuaErkKEoxZQFQ2GhMCwrSCpoiKxQcfFD4TdGf////jFj5qxaXkYth2Vbo6tJMZwACJTdK10nGjsVdKBYahU6RoTJzWdyPkOcqM0//NExCgRmIqUAMYeTGHDbudWdLPLRD95Y8ITolwqdWGgWDv////W55YGg7U2DDcNNx4JaMplNgwQFbX8clxXFh9/YrlXhlwmnL5TVSOT6lsqvpGwqoFia2Vseo9WdU8r//NExDQRUJZEAVlIANP+rrICoCR2////6GChIK/6lQ1CNIxoaJChIIYYc/tbO4JDDLFL++4gI5GZjs4GSgsBiUygZpFLP0LAa5JoGJCUAcUAMZBr/wuBC08W0G64e//+//NExEEhaypIAZqoAAFAMaQ4BpiEg0P/8UALgNA6QTeKXC5///8ZoUoLkIgmTizf///+m6abm60yJkMIgI8/////x9jjGbN3K5MFQcB03L6Rop/HsPgDJLAnyXh9Fr4M//NExA4UUaasAY9oANoxExC1Ewvk9JIug4ieQRxiXDBHzJI0HoWmakUFHEl5vtv/t9dtGr+gymepRgyDfMDRfB4O/0ft+tN9OgW3uy5m6wVq1lJEjhKMVkJAZE2LNYUs//NExA8RSWK4AdhAAIvhUobWs6me/sX89jxySLUhJ4WLEciXtOO9JZUhWeKh4Pn/5v4nuJqhrOlHAQCkR7D7v///9VXum4CI7ezDc2C1HYZNWtdyOGvaV1p9baCrAZNx//NExBwQ2Y68AMDElKSls2vfT//ajKd3fs6NZE4J63n5Rynfr/w+KTJA4sv/lBp/JiAIg+poLgmc52nP//n/+XV3//9G3vI+QTqYSKQUcLMQ7kI07HZSFPsJDhBUxicJ//NExCsSAbbIADhKlWz1tiHeZ/2/eDD+o3iQ8pIQJp1UnVgNY4QWYgXYf///9//5ouf//9n8pHg9jb4HVRYZxWbBFqUqThlJcxqmzK1pHCzY/L0/k98uyR/PBvPh1RCE//NExDYQEm7MAAhGuUEC+vDtWmfMtMhqr/////////1y5S21S6hqzBhyUmM8qajGHNfWCqrdDZnDmxw6CaZYMktNZSNvY+Z57LD4RnSbO1lUmLPjKM4HyIUioVal//////NExEgQ8t7EAAhGuS///o//+tPlfQytSX0lVjGCiQwpTad1opQzlR0M8ylYyGM6iUFVKpahTfFBX+NBUSV+WQbZLCSwkTRUFQopgqoXMkICZpDMGAxGf91FUUP//VI8//NExFcQ0jqcAUEQAZtwMYGC30A4f/iEYNhw38DBgf/ACBhv4GtBgYQoBIZ/+AEAC2BqAUID8Qvu//8OjC2ZeDLYyaAff//8PgGgKAGYNA1QQUcZAfWp6nV//D5y2J/L//NExGYhcypUAZmgAImMmOQRAghFDQhP////8ny4Wi+5NEIOMcsTukNMWYOyZvxZIKeVUjar3GkQYeRn1OGMUn2KRJcdpsSzjScbEKdlLp0wakxcgJJwiGYgJY8mnSkb//NExDMdoqasAZhYAAEwCcdjFalF0ugsvJYhCKDJ8noxfFr/cwoiu9j1DhMfw1/NtZ/8cXM//obqjunwca7n+f5////mKezdKD5PoMbXnVka3i+pfi/YT4kVAIyrNpph//NExA8SQX7AAdhIAavj9PjqktaqZ8wx2cvco3PchccTxZQQkpEFA6K0S5RxZIw0eDBWZC9m24SneQ/r7W/W66dRrJq4PfzV2XAqNdbTzxNRJ8sX4TCfqqIQfS6xcbes//NExBkSiYqwAMIYlfK1K1DXDNTB1EgIoj0OXBFUFkyVFkyjJp0djsusu+V32r0707Wct+PflrMxTDFZtwpVeJJUBVexJVAa1pgLgMRkLWovFf9Xst/TtTbn7VLNXa5b//NExCESmZJ8AMGWlFgVQkhQPDkB6SB+SKx0pGJaSjcPKZa6eWuv/4642xcxbZYelh6aSo9ySj4ezLFDNuDlkFHS9oCCw4xte0ai346z/Le/1+Xe8/z09EMFAQkFRR5V//NExCkPQL4wAVoQAC0qn3am7/Q6j0+j/uoMM/1sb+7o1lRt872+1wzFGduuX9shKVNSBRFvJ0uizRUEThOGgbkNOF2BdQy8JkFjIcJI0agGbFsGiQ4ohRwy8KWHARJt//NExD8hqx6YAY+QAbIiTBms0NzYyNjMyT/mRqkcM1Mam1Tuj/zdjVJjVSKJgTxUM0lP//0+pb7GjILppHVLczb//1MeUy6aabqbolEoTh9jBbmITf6o+ApzC+EkHbdM//NExAsSSPKsAdhIAAAGOMTf+X1JRYz/+4a5bt5rztiFLt2RhssIgMfUe6vPIZOU09uTFAM+lVtF4jKAiD4OCMgxv////6n9bv/1qrz6MdDpPuEKLxLXLcp1Q/BDLotT//NExBQRiPKkAVhIAFr6tNazxx5ll3af2sVMpCE8iVQxjCVx9S20MbQs0ikJXAqMDpX21A0JQ6CowO/////11RS5KRsUPFl39funjOC61iVb3+4m0VeCsArglC0S69Tw//NExCAZQyaEAZloALWF7GDCQf+WG49x7m//4WgRgeAw4jY8//8TAlDRNbq///RN+XC4h////TNx6D0NE80MEC//////kubpugXy+bm5fNxyHkgozAJOWQ/04fY4DQJY//NExA4VUZ7IAY94AD2QxwFhJeYwL+bOnrVMjVcrNxMoY6jthe1Yp34w3Vq/TyaLHph5Ah/Gd1/hVV8WeJGgNbJD3///vFb3xEpuma3xfX///83kFcQgcFMDt9zywfC3//NExAsQ8RLAAc9IAWUIVyiHaW5QoREXlb3iWwHlcMIiABR0AgoBoCz2nJ46N1so5DdldsNLKpHUpt4WrWqe6y5OHMyMqdygxiJjibKpxcpTmZsCFI5OCxMafLC4Plxe//NExBoQAK6wAHvYTBKRpFrr8uDsqPAJFgqnsS13Girg1WNJVkmFXHU+p8seDoopq/+X67DUnixbkfb37brXHqVDluR2WxSlsHhABjt//+n/8///+yG7bf69W20R2Z7///NExC0RwuKwAHlEudfup5KLsSrn32RjoQjqCGU87iwgyWuI6leRIQn9R+UbKbb8zHImRDegb8iMi837Is3/b+z1tX5P/v396p2J9q/98yoZzPK7oNOOZEQ4oonMISoj//NExDkRQxqsAAhKvZZgtA8FMxxAIkEjCmzm4LghEGPAhkg45EFGUaiCrbkV9Oy+XpIp9R4gWG1EhFhRiDJ5SZ1/Oq0NWWkN37LKGy29GuaaHSNZadUeEroiLAqGhQDE//NExEcSmJqsAHpMTIKlQqrcIEIrXpRl6jJ+O9O80kWFWbxfxc1eoHF8pzneIe5uUFjsn3MMgWWBoShcfT1MV6lk7b6+5k5o2rFalkkw1OeOfcezPnHbL2P7mgLIGAIe//NExE8SOQa4AHvScaFmU5OySOJDFncYaKjdWRsJWsqujN+Llc9qYA2PiYIzwUXVrmHVzENKNvvuvo1qdWcoR5Zp3IK5yjtsi6eV8tQq3kd7QpEP64nYENU5ByleHgWK//NExFkRiR7EAGPYcTw2WkGtos11p1KMnuWUmQ1Yp4yHFgsGGhW0WyRlc6wyKWyoUjRmK+QVv7tVOVVmJ32cixtdUiZ6go4ITUAwgCFQxScuuXxLmjCyA9UKp4WpK2hq//NExGURwWLAAU9IASmt6zyPIrKpWBjfs7YyWrNSGwIecQMAcbzKENxH+MzHECmJCPouIjJjIQLYSxSCOEIZC5pYOIfbcinF2oHBzcITAydWTRlYq3zc5vm6PBtv//95//NExHEe+cqcAZl4AKp//+1Sbf///iM1HbTWbCCClZBZoJhMjEYQ4EXQuUpcwzCJ+He87Eb85L+a7Eo1nNXbm6XDmtU0NSl2R11NenX7S81rVh4ncAQi2yhwBEmOhUho//NExEghWcaIAZnAAKBoqqFIAGutRjbsPq+rDlTSJ4ljQOypiTmrrbC3Z7HE3L6eJymCrcPRHLuOsu/Mz9vDHH/+apTH//+sFv1qAjE4z0dNFAl/wqABihIVBRg6Kcct//NExBUXqYJwAZp4AFNJ7GfwWFx3in/rBe/f+//8sL5yF1+s61//YTICdI4P0AJBxSsO5rS11B9rA2S+BImUkRNgNbc31Bgxa4/zrmMhtgKy5Wn///ytFSG2RzkcXG1R//NExAkQmS4kAdgQAaTGUhjEYyAAIGCgBU1fmpDT/Q9ZrSqNU3atLSuUKJK0z+UuhWzZQpjPKX+WgEBAIkoK78grwV3QUUrCUIy8BIAIinpyAgosFIyaAQDT/0BAROzG//NExBkQgJXcAGGGTKqqoC2JQ0WPAqEwWe4qCuVDSg6iCr6wVh1cqexK7bEWs75Z+d/1f89rTEFNRTMuMTAwqqqqqqqqqqqqqqqqqqqqqqqqqqqqqqqqqqqqTEFNRTMu//NExCoAAANIAAAAADEwMKqqqqqqqqqqqqqqqqqqqqqqqqqqqqqqqqqqqqqqqqqqqqqqqqqqqqqqqqqqqqqqqqqqqqqqqqqqqqqqqqqqqqqqqqqqqqqqqqqqZVWhhvmc//NExH0AAANIAAAAAFtL0VhJzjRi2sObgTkhGnLNyUWjJk0eNMkw6HQgHA6OGzDzxscPGzCaFxcM7PUpIhxwYegtS1Bw4YegnF4muLh2zczc3NzcRWgDjUGQT/fHCxk5//NExKwAAANIAAAAAPzRtyg2ZNGjRp/ppMmDRo0BKhYD5EPP4XBEkLTBcF0hDezwIl94PTMUfsZ/Dn0QNJmhZRAtMxC8v/+f+leIwBQOCKLgtCc0z///evErxKIoWGgR//NExKwAAANIAAAAAB9JQTiMQCcQE2/7j5wLBB3/1l4cwYR/i4n4OJJlxSShblVKy4bNjCjBh1Ji41AYBAwIGAggIGJjRv///jVYsFUTBVE1YdL//+darGqwVBVCQ8BJ//NExP8akZkwAHpMlOwiJREJRKIhKRb1+ePHTwxMQU1FMy4xMDCqqqqqqqqqqqqqqqqqqqqqqqqqqqqqqqqqqqqqqqqqqqqqqqqqqqqqqqqqqqqqqqqqqqqqTEFNRTMu//NExOcU8ZXkAHmGlDEwMKqqqqqqqqqqqqqqqqqqqqqqqqqqqqqqqqqqqqqqqqqqqqqqqqqqqqqqqqqqqqqqqqqqqqqqqqqqqqqqqqqqqqqqqqqqqqqqqqqqTEFNRTMu//NExOYUAZnQAHjGlDEwMKqqqqqqqqqqqqqqqqqqqqqqqqqqqqqqqqqqqqqqqqqqqqqqqqqqqqqqqqqqqqqqqqqqqqqqNGU8o03jDzU5IuNXIR01iwbTWCG0O2Dxg7UN//NExKwAAANIAAAAAMgug8JasynM4QEhFB1KsbtxBrDOC5uZ+EEE0E0IQdESkTT9XqNnkVhpk7Lmh7nh5TLxgeaY0+c5pqNk1ePfEB5EwwJxDFAyRM3pq97+ArFYC8Pz//NExKwAAANIAAAAAPRE3SpFwbg3BuLvLu+lbigNAaCiS7vUvoQKA0FD7RETm9xcXFxd4R3v9yxcUFE3d3v9CBQUMqERE/hxcXPfQgx7/csXuepAEUBDrhZyQ5lAnIkG//NExMEFQBgAAPeAAMyf6HG/bFVk8szlVThMM0DRQZyR2Z4mTmKQQ8RwRUeoLYGIEfMwuKPRinanFwc1w/Vzx/CcXkeNS9qbhVrrW4WJ7Xpm+q5rrILRrlnGadISjsTy//NExP8nkxm8AMPQvRtltGOZXyuRqpF8rnP1VVzmcz84bZ/+VkNqRX7l/SWkX+yPBpUgQPsDUBvhuCWKVzTxpHKum+YXrH7Q0XFUvJ1CCWiaOQniQMw9BsOJfLBsTTpO//NExLMhGx3UAMPGvLH4lrW9a7kbsuCcVuFP/TNIf/9Hp//+ZQNYg5SqKylViOOUZMNWyWLnhUkaIVFkYCgUDQSn/ZOgCgJsKkSoq5JIGQywYSPO4LEXVNioCFgESZ4z//NExIERcNYQAHsYcOz+VY//6maW7AERTEFNRTMuMTAwVVVVVVVVVVVVVVVVVVVVVVVVVVVVVVVVVVVVVVVVVVVVVVVVVVVVVVVVVVVVVVVVVVVVVVVVVVVVVVVVVVVV//NExI4RgJXYAHpMTFVVVVVVVVVVVVVVVVVVVVVVVVVVVVVVVVVVVVVVVVVVVVVVVVVVVVVVVVVVVVVVVVVVVVVVVVVVVVVVVVVVVVVVVVVVVVVVVVVVVVVVVVVVVVVV\" type=\"audio/wav\" />\n",
       "                    Your browser does not support the audio element.\n",
       "                </audio>\n",
       "              "
      ],
      "text/plain": [
       "<IPython.lib.display.Audio object>"
      ]
     },
     "execution_count": 36,
     "metadata": {},
     "output_type": "execute_result"
    }
   ],
   "source": [
    "gender = 'defalut'\n",
    "lang = '日本語'\n",
    "text = '読み上げたいテキストを入力してください'\n",
    "\n",
    "response = synthesize_speech(text,gender='male')\n",
    "Audio(response.audio_content)"
   ]
  },
  {
   "cell_type": "code",
   "execution_count": null,
   "id": "73233dea-276b-4f5f-99d7-1bffa0138877",
   "metadata": {},
   "outputs": [],
   "source": []
  },
  {
   "cell_type": "code",
   "execution_count": null,
   "id": "98d15bf1-f0bd-4938-9c0d-2f57692aafa2",
   "metadata": {},
   "outputs": [],
   "source": []
  },
  {
   "cell_type": "code",
   "execution_count": null,
   "id": "46d630ff-8519-4aa0-97fa-c9ab872d29b0",
   "metadata": {},
   "outputs": [],
   "source": []
  },
  {
   "cell_type": "code",
   "execution_count": null,
   "id": "5e37338b-fe05-4655-9ff6-66619f9e0eaa",
   "metadata": {},
   "outputs": [],
   "source": []
  },
  {
   "cell_type": "code",
   "execution_count": null,
   "id": "a7245436-6396-4ee1-8581-574b233061d9",
   "metadata": {},
   "outputs": [],
   "source": []
  },
  {
   "cell_type": "code",
   "execution_count": null,
   "id": "f3b305fb-89f9-48b2-90bc-827feabcb0bb",
   "metadata": {},
   "outputs": [],
   "source": []
  },
  {
   "cell_type": "code",
   "execution_count": null,
   "id": "698bfeea-1a4b-48b2-8eca-168ac47b18b4",
   "metadata": {},
   "outputs": [],
   "source": []
  },
  {
   "cell_type": "code",
   "execution_count": null,
   "id": "6035f50f-f1b9-4bb4-932e-fb2cb0ab8ba9",
   "metadata": {},
   "outputs": [],
   "source": []
  },
  {
   "cell_type": "code",
   "execution_count": null,
   "id": "becf30c1-cde7-4c54-a18f-64e64f37f558",
   "metadata": {},
   "outputs": [],
   "source": []
  },
  {
   "cell_type": "code",
   "execution_count": null,
   "id": "1e8612ac-1901-41de-9fc2-b8689a2c970d",
   "metadata": {},
   "outputs": [],
   "source": []
  },
  {
   "cell_type": "code",
   "execution_count": null,
   "id": "9f053340-8b61-47ee-84fb-2cb4100fb4d9",
   "metadata": {},
   "outputs": [],
   "source": []
  },
  {
   "cell_type": "code",
   "execution_count": null,
   "id": "fa65f1e2-92a4-43c3-b0c6-0fafaccc1cc5",
   "metadata": {},
   "outputs": [],
   "source": []
  },
  {
   "cell_type": "code",
   "execution_count": null,
   "id": "787cfaf8-7eca-4cb1-bc17-260bcd520f06",
   "metadata": {},
   "outputs": [],
   "source": []
  },
  {
   "cell_type": "code",
   "execution_count": null,
   "id": "675ef1f0-e267-44d6-bd4b-7686b36520c2",
   "metadata": {},
   "outputs": [],
   "source": []
  },
  {
   "cell_type": "code",
   "execution_count": null,
   "id": "ab2cb937-ed7a-4834-add4-2f4c192bb11d",
   "metadata": {},
   "outputs": [],
   "source": []
  },
  {
   "cell_type": "code",
   "execution_count": null,
   "id": "bcdd9573-dcb8-4d1d-a9ad-8af75c18ff91",
   "metadata": {},
   "outputs": [],
   "source": []
  },
  {
   "cell_type": "code",
   "execution_count": null,
   "id": "06e97a1c-cea3-47d3-914b-161ef6e53836",
   "metadata": {},
   "outputs": [],
   "source": []
  },
  {
   "cell_type": "code",
   "execution_count": null,
   "id": "4cf61b08-63fa-4e66-9256-4569588f2513",
   "metadata": {},
   "outputs": [],
   "source": []
  },
  {
   "cell_type": "code",
   "execution_count": null,
   "id": "0ad7aa9d-3117-4c6a-8772-b05ba5d44b5b",
   "metadata": {},
   "outputs": [],
   "source": []
  },
  {
   "cell_type": "code",
   "execution_count": null,
   "id": "f9346021-6b39-4bae-adf2-7d950b83859e",
   "metadata": {},
   "outputs": [],
   "source": []
  },
  {
   "cell_type": "code",
   "execution_count": null,
   "id": "3bca92ba-f4fa-40c3-b400-6d82dece4c36",
   "metadata": {},
   "outputs": [],
   "source": []
  },
  {
   "cell_type": "code",
   "execution_count": null,
   "id": "2d0349f8-6fa9-404c-b7aa-d8ebbea9be90",
   "metadata": {},
   "outputs": [],
   "source": []
  },
  {
   "cell_type": "code",
   "execution_count": null,
   "id": "3455260e-05c5-4fa8-a842-efe8fda4eba1",
   "metadata": {},
   "outputs": [],
   "source": []
  },
  {
   "cell_type": "code",
   "execution_count": null,
   "id": "a0fa3891-2a93-4fe1-a034-9720fdf7aeea",
   "metadata": {},
   "outputs": [],
   "source": []
  },
  {
   "cell_type": "code",
   "execution_count": null,
   "id": "1a532c5b-1df8-4d6b-aca6-936d2de44fde",
   "metadata": {},
   "outputs": [],
   "source": []
  },
  {
   "cell_type": "code",
   "execution_count": null,
   "id": "b628097b-7346-440e-b596-b2b7eaa473f3",
   "metadata": {},
   "outputs": [],
   "source": []
  },
  {
   "cell_type": "code",
   "execution_count": null,
   "id": "2f79f29f-0387-45c1-9d2e-8133453a98c6",
   "metadata": {},
   "outputs": [],
   "source": []
  },
  {
   "cell_type": "code",
   "execution_count": null,
   "id": "7a455741-115b-4a83-8122-7f7a7d6d994d",
   "metadata": {},
   "outputs": [],
   "source": []
  },
  {
   "cell_type": "code",
   "execution_count": null,
   "id": "f68f27bf-b6b5-4071-8c40-0c40a451e81a",
   "metadata": {},
   "outputs": [],
   "source": []
  },
  {
   "cell_type": "code",
   "execution_count": null,
   "id": "b4b53a90-b1de-4e5f-8673-f70c2f2bcce7",
   "metadata": {},
   "outputs": [],
   "source": []
  },
  {
   "cell_type": "code",
   "execution_count": null,
   "id": "e6c3ff7b-488b-4dd3-9a56-a1050aae208e",
   "metadata": {},
   "outputs": [],
   "source": []
  },
  {
   "cell_type": "code",
   "execution_count": null,
   "id": "16a9cf93-6da5-480f-94bf-b7d674e849ee",
   "metadata": {},
   "outputs": [],
   "source": []
  },
  {
   "cell_type": "code",
   "execution_count": null,
   "id": "9eebd2c7-0bc9-4575-8971-5651dedf9e18",
   "metadata": {},
   "outputs": [],
   "source": []
  },
  {
   "cell_type": "code",
   "execution_count": null,
   "id": "b0b8bcbb-2926-495d-b473-76a25b6ba2a7",
   "metadata": {},
   "outputs": [],
   "source": []
  },
  {
   "cell_type": "code",
   "execution_count": null,
   "id": "3b18d24c-56f4-499b-b95e-6b97b2fce5c8",
   "metadata": {},
   "outputs": [],
   "source": []
  },
  {
   "cell_type": "code",
   "execution_count": null,
   "id": "e971c561-de8e-4352-803a-1e2c4f5c94c8",
   "metadata": {},
   "outputs": [],
   "source": []
  }
 ],
 "metadata": {
  "kernelspec": {
   "display_name": "Python 3 (ipykernel)",
   "language": "python",
   "name": "python3"
  },
  "language_info": {
   "codemirror_mode": {
    "name": "ipython",
    "version": 3
   },
   "file_extension": ".py",
   "mimetype": "text/x-python",
   "name": "python",
   "nbconvert_exporter": "python",
   "pygments_lexer": "ipython3",
   "version": "3.10.2"
  }
 },
 "nbformat": 4,
 "nbformat_minor": 5
}
